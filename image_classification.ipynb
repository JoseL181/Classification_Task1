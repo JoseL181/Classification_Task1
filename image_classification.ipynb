{
 "cells": [
  {
   "cell_type": "code",
   "execution_count": null,
   "id": "48f4e911",
   "metadata": {},
   "outputs": [],
   "source": [
    "\n",
    "# CELL 1 - Imports\n",
    "import os\n",
    "import cv2\n",
    "import numpy as np\n",
    "import torch\n",
    "import torch.nn as nn\n",
    "import torch.optim as optim\n",
    "from torch.utils.data import TensorDataset, DataLoader\n",
    "import matplotlib.pyplot as plt\n",
    "from sklearn.metrics import accuracy_score, confusion_matrix, precision_score, recall_score\n",
    "from sklearn.model_selection import train_test_split\n"
   ]
  },
  {
   "cell_type": "code",
   "execution_count": null,
   "id": "51b7c390",
   "metadata": {},
   "outputs": [
    {
     "ename": "error",
     "evalue": "OpenCV(4.11.0) D:\\a\\opencv-python\\opencv-python\\opencv\\modules\\core\\src\\utils\\samples.cpp:64: error: (-2:Unspecified error) OpenCV samples: Can't find required data file: lena.jpg in function 'cv::samples::findFile'\n",
     "output_type": "error",
     "traceback": [
      "\u001b[31m---------------------------------------------------------------------------\u001b[39m",
      "\u001b[31merror\u001b[39m                                     Traceback (most recent call last)",
      "\u001b[36mCell\u001b[39m\u001b[36m \u001b[39m\u001b[32mIn[2]\u001b[39m\u001b[32m, line 2\u001b[39m\n\u001b[32m      1\u001b[39m \u001b[38;5;66;03m# CELL 2 - Visualize an Image\u001b[39;00m\n\u001b[32m----> \u001b[39m\u001b[32m2\u001b[39m img_path = \u001b[43mcv2\u001b[49m\u001b[43m.\u001b[49m\u001b[43msamples\u001b[49m\u001b[43m.\u001b[49m\u001b[43mfindFile\u001b[49m\u001b[43m(\u001b[49m\u001b[33;43m\"\u001b[39;49m\u001b[33;43mlena.jpg\u001b[39;49m\u001b[33;43m\"\u001b[39;49m\u001b[43m)\u001b[49m\n\u001b[32m      3\u001b[39m image = cv2.imread(img_path)\n\u001b[32m      4\u001b[39m image_rgb = cv2.cvtColor(image, cv2.COLOR_BGR2RGB)\n",
      "\u001b[31merror\u001b[39m: OpenCV(4.11.0) D:\\a\\opencv-python\\opencv-python\\opencv\\modules\\core\\src\\utils\\samples.cpp:64: error: (-2:Unspecified error) OpenCV samples: Can't find required data file: lena.jpg in function 'cv::samples::findFile'\n"
     ]
    }
   ],
   "source": [
    "\n",
    "image_path = \"C:\\Users\\Lizbel\\OneDrive\\Pictures\"  # <- replace with your image path\n",
    "image = cv2.imread(image_path)\n",
    "\n",
    "if image is None:\n",
    "    raise FileNotFoundError(\"Make sure the image path is correct.\")\n",
    "\n",
    "image_rgb = cv2.cvtColor(image, cv2.COLOR_BGR2RGB)\n",
    "plt.imshow(image_rgb)\n",
    "plt.title(\"Custom Image\")\n",
    "plt.axis(\"off\")\n",
    "plt.show()\n",
    "\n"
   ]
  },
  {
   "cell_type": "code",
   "execution_count": null,
   "id": "1f23db6d",
   "metadata": {},
   "outputs": [],
   "source": [
    "\n",
    "# CELL 4 - Create Dummy Shape Dataset\n",
    "def create_dummy_image(label):\n",
    "    img = np.zeros((64, 64), dtype=np.uint8)\n",
    "    if label == 0:\n",
    "        cv2.circle(img, (32, 32), 20, 255, -1)\n",
    "    else:\n",
    "        cv2.rectangle(img, (20, 20), (44, 44), 255, -1)\n",
    "    return img\n",
    "\n",
    "X = []\n",
    "y = []\n",
    "\n",
    "for label in [0, 1]:\n",
    "    for _ in range(300):\n",
    "        X.append(create_dummy_image(label))\n",
    "        y.append(label)\n",
    "\n",
    "X = np.array(X).astype(np.float32) / 255.0\n",
    "y = np.array(y)\n",
    "X = X.reshape(-1, 1, 64, 64)\n"
   ]
  },
  {
   "cell_type": "code",
   "execution_count": null,
   "id": "4cf4c568",
   "metadata": {},
   "outputs": [],
   "source": [
    "\n",
    "# CELL 5 - Train/Test Split\n",
    "X_train, X_test, y_train, y_test = train_test_split(X, y, test_size=0.2, random_state=42)\n",
    "\n",
    "X_train_tensor = torch.tensor(X_train)\n",
    "y_train_tensor = torch.tensor(y_train)\n",
    "X_test_tensor = torch.tensor(X_test)\n",
    "y_test_tensor = torch.tensor(y_test)\n",
    "\n",
    "train_loader = DataLoader(TensorDataset(X_train_tensor, y_train_tensor), batch_size=32, shuffle=True)\n"
   ]
  },
  {
   "cell_type": "code",
   "execution_count": null,
   "id": "df499c24",
   "metadata": {},
   "outputs": [],
   "source": [
    "\n",
    "# CELL 6 - Define Neural Network\n",
    "class ShapeClassifier(nn.Module):\n",
    "    def __init__(self):\n",
    "        super(ShapeClassifier, self).__init__()\n",
    "        self.net = nn.Sequential(\n",
    "            nn.Flatten(),\n",
    "            nn.Linear(64*64, 128),\n",
    "            nn.ReLU(),\n",
    "            nn.Linear(128, 2)\n",
    "        )\n",
    "\n",
    "    def forward(self, x):\n",
    "        return self.net(x)\n",
    "\n",
    "model = ShapeClassifier()\n",
    "loss_fn = nn.CrossEntropyLoss()\n",
    "optimizer = optim.Adam(model.parameters(), lr=0.001)\n"
   ]
  },
  {
   "cell_type": "code",
   "execution_count": null,
   "id": "932b200c",
   "metadata": {},
   "outputs": [],
   "source": [
    "\n",
    "# CELL 7 - Train the Model\n",
    "epochs = 10\n",
    "\n",
    "for epoch in range(epochs):\n",
    "    model.train()\n",
    "    for batch_X, batch_y in train_loader:\n",
    "        optimizer.zero_grad()\n",
    "        out = model(batch_X)\n",
    "        loss = loss_fn(out, batch_y)\n",
    "        loss.backward()\n",
    "        optimizer.step()\n",
    "    print(f\"Epoch {epoch+1}/{epochs}, Loss: {loss.item():.4f}\")\n"
   ]
  },
  {
   "cell_type": "code",
   "execution_count": null,
   "id": "e530035b",
   "metadata": {},
   "outputs": [],
   "source": [
    "\n",
    "# CELL 8 - Evaluate Model\n",
    "model.eval()\n",
    "with torch.no_grad():\n",
    "    preds = model(X_test_tensor)\n",
    "    y_pred = torch.argmax(preds, dim=1).numpy()\n",
    "\n",
    "accuracy = accuracy_score(y_test, y_pred)\n",
    "precision = precision_score(y_test, y_pred)\n",
    "recall = recall_score(y_test, y_pred)\n",
    "cm = confusion_matrix(y_test, y_pred)\n",
    "\n",
    "print(f\"Accuracy: {accuracy:.2f}\")\n",
    "print(f\"Precision: {precision:.2f}\")\n",
    "print(f\"Recall: {recall:.2f}\")\n",
    "print(f\"Confusion Matrix:\\n{cm}\")\n"
   ]
  },
  {
   "cell_type": "code",
   "execution_count": null,
   "id": "c26cc719",
   "metadata": {},
   "outputs": [],
   "source": [
    "\n",
    "# CELL 9 - Save Model as .pth\n",
    "torch.save(model.state_dict(), \"model_weights.pth\")\n",
    "print(\"Model saved as model_weights.pth\")\n"
   ]
  },
  {
   "cell_type": "code",
   "execution_count": null,
   "id": "0e0a2378",
   "metadata": {},
   "outputs": [],
   "source": [
    "\n",
    "# CELL 10 - Load Model\n",
    "model_loaded = ShapeClassifier()\n",
    "model_loaded.load_state_dict(torch.load(\"model_weights.pth\"))\n",
    "model_loaded.eval()\n",
    "print(\"Model loaded successfully!\")\n"
   ]
  }
 ],
 "metadata": {
  "kernelspec": {
   "display_name": "Python 3",
   "language": "python",
   "name": "python3"
  },
  "language_info": {
   "codemirror_mode": {
    "name": "ipython",
    "version": 3
   },
   "file_extension": ".py",
   "mimetype": "text/x-python",
   "name": "python",
   "nbconvert_exporter": "python",
   "pygments_lexer": "ipython3",
   "version": "3.13.3"
  }
 },
 "nbformat": 4,
 "nbformat_minor": 5
}
